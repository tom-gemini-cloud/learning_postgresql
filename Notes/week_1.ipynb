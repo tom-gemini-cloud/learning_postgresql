{
 "cells": [
  {
   "cell_type": "markdown",
   "id": "76393d0d",
   "metadata": {},
   "source": [
    "# Week 1\n",
    "\n",
    "#### **Reading**\n",
    "\n",
    "**Chapters 1 to 3**: Practical SQL by Anthony de Barros\n",
    "\n",
    "<img src=\"images/practical_sql_book_cover.png\" width=\"300\">\n"
   ]
  }
 ],
 "metadata": {
  "language_info": {
   "name": "python"
  }
 },
 "nbformat": 4,
 "nbformat_minor": 5
}
